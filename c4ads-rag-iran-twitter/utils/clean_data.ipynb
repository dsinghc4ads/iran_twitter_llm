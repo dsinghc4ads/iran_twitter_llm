{
 "cells": [
  {
   "cell_type": "code",
   "execution_count": 98,
   "metadata": {},
   "outputs": [],
   "source": [
    "import pandas as pd\n",
    "import re"
   ]
  },
  {
   "cell_type": "code",
   "execution_count": 99,
   "metadata": {},
   "outputs": [],
   "source": [
    "FILE_PATH = \"../data/sahara-thunder.csv\"\n",
    "\n",
    "raw = pd.read_csv(FILE_PATH)\n",
    "df = raw"
   ]
  },
  {
   "cell_type": "code",
   "execution_count": 100,
   "metadata": {},
   "outputs": [],
   "source": [
    "def replace_binary(input_text):\n",
    "    # replace every string that is 76 characters with no spaces line breaks or dashes?\n",
    "    pattern = r'[^ \\n-]{76}'\n",
    "    result = re.sub(pattern, '', input_text)\n",
    "    return result\n",
    "\n",
    "# Fill NA to empty string\n",
    "df['text'] = df['text'].fillna('')\n",
    "df['text'] = df['text'].apply(replace_binary)\n",
    "\n",
    "df.to_csv(\"../data/clean.csv\", index=False)"
   ]
  },
  {
   "cell_type": "code",
   "execution_count": 102,
   "metadata": {},
   "outputs": [
    {
     "data": {
      "text/plain": [
       "date                9999\n",
       "card_header_name    9999\n",
       "subject             9787\n",
       "from                9981\n",
       "doc_type            9999\n",
       "to                  9958\n",
       "text                9999\n",
       "dtype: int64"
      ]
     },
     "execution_count": 102,
     "metadata": {},
     "output_type": "execute_result"
    }
   ],
   "source": [
    "raw.count()"
   ]
  }
 ],
 "metadata": {
  "kernelspec": {
   "display_name": "llama",
   "language": "python",
   "name": "python3"
  },
  "language_info": {
   "codemirror_mode": {
    "name": "ipython",
    "version": 3
   },
   "file_extension": ".py",
   "mimetype": "text/x-python",
   "name": "python",
   "nbconvert_exporter": "python",
   "pygments_lexer": "ipython3",
   "version": "3.8.16"
  }
 },
 "nbformat": 4,
 "nbformat_minor": 2
}
